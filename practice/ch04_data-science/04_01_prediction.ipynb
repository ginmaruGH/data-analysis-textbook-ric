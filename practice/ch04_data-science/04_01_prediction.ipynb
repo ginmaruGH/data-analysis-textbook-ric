{
 "cells": [
  {
   "cell_type": "markdown",
   "metadata": {},
   "source": [
    "# 4-2 数値解析（予測）\n",
    "\n",
    "## 4-2-1 目的変数の例"
   ]
  },
  {
   "cell_type": "code",
   "execution_count": null,
   "metadata": {},
   "outputs": [],
   "source": []
  }
 ],
 "metadata": {
  "kernelspec": {
   "display_name": "Python 3.10.8 ('venv': venv)",
   "language": "python",
   "name": "python3"
  },
  "language_info": {
   "name": "python",
   "version": "3.10.8"
  },
  "orig_nbformat": 4,
  "vscode": {
   "interpreter": {
    "hash": "392089ae6e5380b9918bcab5bbb2aafe398b962a07bdd85d09ace1382fa2f971"
   }
  }
 },
 "nbformat": 4,
 "nbformat_minor": 2
}
