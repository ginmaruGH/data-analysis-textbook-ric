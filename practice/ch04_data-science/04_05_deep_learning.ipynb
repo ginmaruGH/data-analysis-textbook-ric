{
 "cells": [
  {
   "cell_type": "code",
   "execution_count": null,
   "metadata": {},
   "outputs": [],
   "source": []
  },
  {
   "cell_type": "markdown",
   "metadata": {},
   "source": [
    "# 画像認識（適用技術: Deep Learning）"
   ]
  },
  {
   "cell_type": "markdown",
   "metadata": {},
   "source": [
    "`"
   ]
  }
 ],
 "metadata": {
  "kernelspec": {
   "display_name": "Python 3.10.8 ('venv': venv)",
   "language": "python",
   "name": "python3"
  },
  "language_info": {
   "name": "python",
   "version": "3.10.8"
  },
  "orig_nbformat": 4,
  "vscode": {
   "interpreter": {
    "hash": "392089ae6e5380b9918bcab5bbb2aafe398b962a07bdd85d09ace1382fa2f971"
   }
  }
 },
 "nbformat": 4,
 "nbformat_minor": 2
}
